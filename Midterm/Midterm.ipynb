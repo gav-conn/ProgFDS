{
 "cells": [
  {
   "cell_type": "code",
   "execution_count": 2,
   "metadata": {},
   "outputs": [],
   "source": [
    "import numpy as np"
   ]
  },
  {
   "cell_type": "code",
   "execution_count": 3,
   "metadata": {},
   "outputs": [],
   "source": [
    "mu_full = np.array([0.83, 0.85, 0.96, 0.81, 0.68])\n",
    "\n",
    "cov_full = np.array([[17.40, 15.20, 18.40, 11.94, 18.81],\n",
    "             [15.20, 22.49, 18.74, 12.06, 20.96],\n",
    "             [18.40, 18.74, 25.06, 13.82, 22.18],\n",
    "             [11.94, 12.06, 13.82, 15.94, 14.95],\n",
    "             [18.81, 20.96, 22.18, 14.95, 29.05]])"
   ]
  },
  {
   "cell_type": "code",
   "execution_count": 4,
   "metadata": {},
   "outputs": [],
   "source": [
    "mu1 = np.array([0.70, 0.90, 0.69, 0.51, 0.31])\n",
    "\n",
    "cov1 = np.array([[14.48, 13.90, 17.27, 9.76, 19.20],\n",
    "              [13.90, 22.75, 20.04, 10.52, 20.82],\n",
    "              [17.27, 20.04, 26.47, 12.52, 24.42],\n",
    "              [9.76, 10.52, 12.52, 13.43, 14.40],\n",
    "              [19.20, 20.82, 24.42, 14.4, 32.62]])\n"
   ]
  },
  {
   "cell_type": "code",
   "execution_count": 5,
   "metadata": {},
   "outputs": [],
   "source": [
    "# mean vector and covariance matrix second sample period 2013:01-2022:12\n",
    "mu2 = np.array([0.97, 0.79, 1.23, 1.10, 1.05])\n",
    "\n",
    "cov2 = np.array([[20.43, 16.63, 19.62, 14.14, 18.49],\n",
    "              [16.63, 22.41, 17.62, 13.74, 21.32],\n",
    "              [19.62, 17.62, 23.72, 15.06, 19.93],\n",
    "              [14.14, 13.74, 15.06, 18.41, 15.41],\n",
    "              [18.49, 21.32, 19.93, 15.41, 25.46]])"
   ]
  },
  {
   "cell_type": "code",
   "execution_count": 6,
   "metadata": {},
   "outputs": [
    {
     "name": "stdout",
     "output_type": "stream",
     "text": [
      "Tangency Portfolio Weights for period 1:\n",
      " [ 1.57874222  0.6227716  -0.37924521  0.22288215 -1.04515076] \n",
      "\n",
      "Min. var. portfolio Weights for period 1:\n",
      " [ 1.10889977  0.23358726 -0.367573    0.51924118 -0.4941552 ]\n"
     ]
    }
   ],
   "source": [
    "# Q1 a)\n",
    "\n",
    "numer = np.linalg.inv(cov1) @ mu1\n",
    "denom = np.ones(5) @ np.linalg.inv(cov1) @ mu1\n",
    "\n",
    "w1_tp = np.divide(numer, denom)\n",
    "\n",
    "numer = np.linalg.inv(cov1) @ np.ones(5)\n",
    "denom = np.ones(5) @ np.linalg.inv(cov1) @ np.ones((5,1))\n",
    "\n",
    "w1_gp = np.divide(numer, denom)\n",
    "\n",
    "print('Tangency Portfolio Weights for period 1:\\n', w1_tp,\n",
    "      '\\n\\nMin. var. portfolio Weights for period 1:\\n', w1_gp)"
   ]
  },
  {
   "cell_type": "code",
   "execution_count": 7,
   "metadata": {},
   "outputs": [
    {
     "name": "stdout",
     "output_type": "stream",
     "text": [
      "Mean return of the TP in period 2:  0.7046599760610504\n",
      "\n",
      "Variance of the TP in period 2:  23.700207480868762\n",
      "\n",
      "Sharpe Ratio of the TP in period 2:  0.14474498670951041\n"
     ]
    }
   ],
   "source": [
    "# Q1 b) summary sats of tangency portfolio\n",
    "\n",
    "mu2_tp = w1_tp @ mu2 \n",
    "var2_tp = w1_tp.T @ cov2 @ w1_tp\n",
    "sharpe2_tp = mu2_tp/np.sqrt(var2_tp)\n",
    "\n",
    "print('Mean return of the TP in period 2: ', mu2_tp)\n",
    "print('\\nVariance of the TP in period 2: ', var2_tp)\n",
    "print('\\nSharpe Ratio of the TP in period 2: ', sharpe2_tp)"
   ]
  },
  {
   "cell_type": "code",
   "execution_count": 8,
   "metadata": {},
   "outputs": [
    {
     "name": "stdout",
     "output_type": "stream",
     "text": [
      "Mean return of the MVP in period 2:  0.8603542508241728\n",
      "\n",
      "Variance of the MVP in period 2:  18.339200911810877\n",
      "\n",
      "Sharpe Ratio of the MVP in period 2:  0.20090331580689305\n"
     ]
    }
   ],
   "source": [
    "# Summary stats of min var portfolio\n",
    "\n",
    "mu2_gp = w1_gp @ mu2 \n",
    "var2_gp = w1_gp.T @ cov2 @ w1_gp\n",
    "sharpe2_gp = mu2_gp/np.sqrt(var2_gp)\n",
    "\n",
    "print('Mean return of the MVP in period 2: ', mu2_gp)\n",
    "print('\\nVariance of the MVP in period 2: ', var2_gp)\n",
    "print('\\nSharpe Ratio of the MVP in period 2: ', sharpe2_gp)"
   ]
  },
  {
   "cell_type": "code",
   "execution_count": 9,
   "metadata": {},
   "outputs": [],
   "source": [
    "# Q1 c)\n",
    "\n",
    "n = 12*20\n",
    "\n",
    "rets_full = np.random.multivariate_normal(mu_full, cov_full, n) # sample from MVN\n",
    "rets1 = rets_full[0:n//2, :] # take first half of sample\n",
    "rets2 = rets_full[n//2:, :] # take second half of samples\n",
    "# print(len(rets1), len(rets2))\n",
    "\n",
    "mu1_samp = np.mean(rets1,axis=0)\n",
    "mu2_samp = np.mean(rets2,axis=0)\n",
    "\n",
    "cov1_samp = np.cov(rets1, ddof=1, rowvar=False)\n",
    "cov2_samp = np.cov(rets2, ddof=1, rowvar=False)"
   ]
  },
  {
   "cell_type": "code",
   "execution_count": 10,
   "metadata": {},
   "outputs": [
    {
     "name": "stdout",
     "output_type": "stream",
     "text": [
      "Tangency Portfolio Weights for period 1:\n",
      " [ 0.82378305  1.08704197 -0.19701516  0.24092721 -0.95473707] \n",
      "\n",
      "Min. var. portfolio Weights for period 1:\n",
      " [ 0.96042836  0.36197865 -0.29618     0.42128885 -0.44751586]\n"
     ]
    }
   ],
   "source": [
    "# Calculated weights for TP & MVP implied by sample\n",
    "numer = np.linalg.inv(cov1_samp) @ mu1_samp\n",
    "denom = np.ones(5) @ np.linalg.inv(cov1_samp) @ mu1_samp\n",
    "\n",
    "w1_tp_samp = np.divide(numer, denom)\n",
    "\n",
    "numer = np.linalg.inv(cov1_samp) @ np.ones(5)\n",
    "denom = np.ones(5) @ np.linalg.inv(cov1_samp) @ np.ones((5,1))\n",
    "\n",
    "w1_gp_samp = np.divide(numer, denom)\n",
    "\n",
    "print('Tangency Portfolio Weights for period 1:\\n', w1_tp_samp,\n",
    "      '\\n\\nMin. var. portfolio Weights for period 1:\\n', w1_gp_samp)"
   ]
  },
  {
   "cell_type": "code",
   "execution_count": 11,
   "metadata": {},
   "outputs": [
    {
     "name": "stdout",
     "output_type": "stream",
     "text": [
      "Mean return of the TP in period 2:  1.346242355623943\n",
      "\n",
      "Variance of the TP in period 2:  14.398581982284242\n",
      "\n",
      "Sharpe Ratio of the TP in period 2:  0.354783479337282\n"
     ]
    }
   ],
   "source": [
    "# Calcaulte summary stats for tangency portfolio implied by sample\n",
    "mu2_tp_samp = w1_tp_samp @ mu2_samp\n",
    "var2_tp_samp = w1_tp_samp.T @ cov2_samp @ w1_tp_samp\n",
    "sharpe2_tp_samp = mu2_tp_samp/np.sqrt(var2_tp_samp)\n",
    "\n",
    "print('Mean return of the TP in period 2: ', mu2_tp_samp)\n",
    "print('\\nVariance of the TP in period 2: ', var2_tp_samp)\n",
    "print('\\nSharpe Ratio of the TP in period 2: ', sharpe2_tp_samp)"
   ]
  },
  {
   "cell_type": "code",
   "execution_count": 12,
   "metadata": {},
   "outputs": [
    {
     "name": "stdout",
     "output_type": "stream",
     "text": [
      "Mean return of the MVP in period 2:  1.0560914308769798\n",
      "\n",
      "Variance of the MVP in period 2:  10.867875420468126\n",
      "\n",
      "Sharpe Ratio of the MVP in period 2:  0.3203532933551183\n"
     ]
    }
   ],
   "source": [
    "# Calcaulte summary stats for min var portfolio implied by sample\n",
    "mu2_gp_samp = w1_gp_samp @ mu2_samp\n",
    "var2_gp_samp = w1_gp_samp.T @ cov2_samp @ w1_gp_samp\n",
    "sharpe2_gp_samp = mu2_gp_samp/np.sqrt(var2_gp_samp)\n",
    "\n",
    "print('Mean return of the MVP in period 2: ', mu2_gp_samp)\n",
    "print('\\nVariance of the MVP in period 2: ', var2_gp_samp)\n",
    "print('\\nSharpe Ratio of the MVP in period 2: ', sharpe2_gp_samp)"
   ]
  },
  {
   "cell_type": "code",
   "execution_count": 13,
   "metadata": {},
   "outputs": [
    {
     "name": "stdout",
     "output_type": "stream",
     "text": [
      "Bayes-Stein estimate of excess mean return:\n",
      " [0.7924653  0.86444834 0.78886615 0.72408142 0.65209838] \n",
      "\n",
      "Bayes-Stein estimated of covariance:\n",
      " [[14.75039944 14.16865985 17.54876747 10.01624278 19.48455611]\n",
      " [14.16865985 23.0452036  20.32707551 10.77852224 21.10941496]\n",
      " [17.54876747 20.32707551 26.77636097 12.78452083 24.72021242]\n",
      " [10.01624278 10.77852224 12.78452083 13.69725019 14.6701595 ]\n",
      " [19.48455611 21.10941496 24.72021242 14.6701595  32.94480662]]\n"
     ]
    }
   ],
   "source": [
    "# Q2 calculating Bayes-Stein estimators for period 1\n",
    "\n",
    "N = 5\n",
    "\n",
    "mu1_gp = w1_gp @ mu1 # calculate mean return on MVP\n",
    "\n",
    "frac1 = (N + 2)*(n/2-1)/(n/2-N-2)\n",
    "frac2 = 1/((mu1-mu1_gp*np.ones(5)).T @ np.linalg.inv(cov1) @ (mu1-mu1_gp*np.ones(5)))\n",
    "\n",
    "lamb = frac1 * frac2\n",
    "gamma = lamb/(n/2+lamb)\n",
    "\n",
    "mu1_bs = gamma * np.ones(5) * mu1_gp + (1-gamma) * mu1\n",
    "\n",
    "frac1 = cov1 * (1 + 1/(n/2+lamb))\n",
    "frac2 = lamb/(n/2*(n/2+1+lamb)) * np.ones(5) @ np.ones((5,1)) /(np.ones(5) @ np.linalg.inv(cov1) @ np.ones((5,1)))\n",
    "\n",
    "cov1_bs = frac1+frac2\n",
    "\n",
    "print('Bayes-Stein estimate of excess mean return:\\n', mu1_bs, \n",
    "      '\\n\\nBayes-Stein estimated of covariance:\\n', cov1_bs)"
   ]
  },
  {
   "cell_type": "code",
   "execution_count": 18,
   "metadata": {},
   "outputs": [
    {
     "name": "stdout",
     "output_type": "stream",
     "text": [
      "Bayes-Stein estimate of excess mean return:\n",
      " [0.8951799  0.83800835 0.97776104 0.93647047 0.92058948] \n",
      "\n",
      "Bayes-Stein estimated of covariance:\n",
      " [[20.57476921 16.76471125 19.76262528 14.26812064 18.62963436]\n",
      " [16.76471125 22.56000994 17.75733162 13.86706191 21.46712489]\n",
      " [19.76262528 17.75733162 23.87347729 15.19055573 20.0734458 ]\n",
      " [14.26812064 13.86706191 15.19055573 18.54942261 15.54148212]\n",
      " [18.62963436 21.46712489 20.0734458  15.54148212 25.61808277]]\n"
     ]
    }
   ],
   "source": [
    "# Calculating Bayes-Stein estimators for period 2\n",
    "N = 5\n",
    "\n",
    "numer = np.linalg.inv(cov2) @ np.ones(5)\n",
    "denom = np.ones(5) @ np.linalg.inv(cov2) @ np.ones((5,1))\n",
    "\n",
    "w2_gp = np.divide(numer, denom)\n",
    "\n",
    "frac1 = (N + 2)*(n/2-1)/(n/2-N-2)\n",
    "frac2 = 1/((mu2-mu2_gp*np.ones(5)).T @ np.linalg.inv(cov2) @ (mu2-mu2_gp*np.ones(5)))\n",
    "\n",
    "lamb = frac1 * frac2\n",
    "gamma = lamb/(n/2+lamb)\n",
    "\n",
    "mu2_bs = gamma * np.ones(5) * mu2_gp + (1-gamma) * mu2\n",
    "\n",
    "frac1 = cov2 * (1 + 1/(n/2+lamb))\n",
    "frac2 = lamb/(n/2*(n/2+1+lamb)) * np.ones((5,1)) @ np.ones((1,5)) /(np.ones(5) @ np.linalg.inv(cov2) @ np.ones((5,1)))\n",
    "\n",
    "cov2_bs = frac1+frac2\n",
    "\n",
    "print('Bayes-Stein estimate of excess mean return:\\n', mu2_bs, \n",
    "      '\\n\\nBayes-Stein estimated of covariance:\\n', cov2_bs)"
   ]
  },
  {
   "cell_type": "code",
   "execution_count": 14,
   "metadata": {},
   "outputs": [
    {
     "name": "stdout",
     "output_type": "stream",
     "text": [
      "Weights of tangency portfolio based on Bayes-Stein estimators:\n",
      " [ 1.2780032   0.37366061 -0.37177401  0.41257707 -0.69246687]\n"
     ]
    }
   ],
   "source": [
    "# Calculate TP weights for period 1 based on BS estimators \n",
    "numer = np.linalg.inv(cov1) @ mu1_bs\n",
    "denom = np.ones(5) @ np.linalg.inv(cov1) @ mu1_bs\n",
    "\n",
    "w1_bs_tp = np.divide(numer, denom)\n",
    "print('Weights of tangency portfolio based on Bayes-Stein estimators:\\n', w1_bs_tp)"
   ]
  },
  {
   "cell_type": "code",
   "execution_count": 15,
   "metadata": {},
   "outputs": [
    {
     "name": "stdout",
     "output_type": "stream",
     "text": [
      "Mean return of the TP in period 2:  0.8043175180292848\n",
      "\n",
      "Variance of the TP in period 2:  19.686007533858866\n",
      "\n",
      "Sharpe Ratio of the TP in period 2:  0.18127950400148277\n"
     ]
    }
   ],
   "source": [
    "# Q2 c) summary stats of tangency portfolio from Bayes-Stein\n",
    "\n",
    "mu2_bs_tp = w1_bs_tp @ mu2 \n",
    "var2_bs_tp = w1_bs_tp.T @ cov2 @ w1_bs_tp\n",
    "sharpe2_bs_tp = mu2_bs_tp/np.sqrt(var2_bs_tp)\n",
    "\n",
    "print('Mean return of the TP in period 2: ', mu2_bs_tp)\n",
    "print('\\nVariance of the TP in period 2: ', var2_bs_tp)\n",
    "print('\\nSharpe Ratio of the TP in period 2: ', sharpe2_bs_tp)"
   ]
  },
  {
   "cell_type": "code",
   "execution_count": 16,
   "metadata": {},
   "outputs": [
    {
     "name": "stdout",
     "output_type": "stream",
     "text": [
      "Difference in mean returns (Traditional less BS):\n",
      " -0.0996575419682344\n",
      "\n",
      "Difference in Variance (Traditional less BS):\n",
      " 4.014199947009896\n",
      "\n",
      "Difference in Sharpe Ratio (Traditional less BS):\n",
      " -0.03653451729197235\n"
     ]
    }
   ],
   "source": [
    "print('Difference in mean returns (Traditional less BS):\\n', mu2_tp-mu2_bs_tp)\n",
    "print('\\nDifference in Variance (Traditional less BS):\\n', var2_tp-var2_bs_tp)\n",
    "print('\\nDifference in Sharpe Ratio (Traditional less BS):\\n', sharpe2_tp-sharpe2_bs_tp)"
   ]
  },
  {
   "attachments": {},
   "cell_type": "markdown",
   "metadata": {},
   "source": [
    "We see from the above that the Bayes-Stein estimators outperform the traditional estimation approach in all measures.\n",
    "\n",
    "The BS estimates have a greater mean return (~0.1% higher), and a lower variance (~4% lower), making it the clear favourite in terms of mean-variance optimization.\n",
    "\n",
    "In addition to this, it also achieves a greater Sharpe Ratio, meaning it provides a better trade-off in terms of risk-reward.\n",
    "\n",
    "We see then that based off of the given set of returns data, that the Bayes-Stein estimates lead to much a much better  performance in the estimation of our optimal portfolio."
   ]
  }
 ],
 "metadata": {
  "kernelspec": {
   "display_name": "base",
   "language": "python",
   "name": "python3"
  },
  "language_info": {
   "codemirror_mode": {
    "name": "ipython",
    "version": 3
   },
   "file_extension": ".py",
   "mimetype": "text/x-python",
   "name": "python",
   "nbconvert_exporter": "python",
   "pygments_lexer": "ipython3",
   "version": "3.9.16"
  },
  "orig_nbformat": 4
 },
 "nbformat": 4,
 "nbformat_minor": 2
}
