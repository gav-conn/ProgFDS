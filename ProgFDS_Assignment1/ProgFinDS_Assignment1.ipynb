{
 "cells": [
  {
   "cell_type": "code",
   "execution_count": 1,
   "metadata": {},
   "outputs": [],
   "source": [
    "import numpy as np"
   ]
  },
  {
   "attachments": {},
   "cell_type": "markdown",
   "metadata": {},
   "source": [
    "#### Q1 a)"
   ]
  },
  {
   "cell_type": "code",
   "execution_count": 2,
   "metadata": {},
   "outputs": [
    {
     "name": "stdout",
     "output_type": "stream",
     "text": [
      "[[ 1  2  3  4]\n",
      " [ 5  6  7  8]\n",
      " [ 9 10 11 12]\n",
      " [13 14 15 16]]\n"
     ]
    }
   ],
   "source": [
    "Q1_array = np.arange(1,17,1).reshape(4,4)\n",
    "print(Q1_array)"
   ]
  },
  {
   "attachments": {},
   "cell_type": "markdown",
   "metadata": {},
   "source": [
    "#### Q1 b i)"
   ]
  },
  {
   "attachments": {},
   "cell_type": "markdown",
   "metadata": {},
   "source": [
    "[3 7 11 15]"
   ]
  },
  {
   "attachments": {},
   "cell_type": "markdown",
   "metadata": {},
   "source": [
    "#### Q1 ii)"
   ]
  },
  {
   "attachments": {},
   "cell_type": "markdown",
   "metadata": {},
   "source": [
    "[13 14]"
   ]
  },
  {
   "attachments": {},
   "cell_type": "markdown",
   "metadata": {},
   "source": [
    "#### Q1 iii)"
   ]
  },
  {
   "attachments": {},
   "cell_type": "markdown",
   "metadata": {},
   "source": [
    "$\n",
    "\\begin{bmatrix} \n",
    "\\begin{bmatrix} 1 & 4 \\end{bmatrix} \\\\\n",
    "\\begin{bmatrix} 5 & 8 \\end{bmatrix} \\\\\n",
    "\\begin{bmatrix} 9 & 12 \\end{bmatrix} \\\\\n",
    "\\begin{bmatrix} 13 & 16 \\end{bmatrix} \\\\\n",
    "\\end{bmatrix}\n",
    "$"
   ]
  },
  {
   "attachments": {},
   "cell_type": "markdown",
   "metadata": {},
   "source": [
    "#### Q1 iv)"
   ]
  },
  {
   "attachments": {},
   "cell_type": "markdown",
   "metadata": {},
   "source": [
    "$\n",
    "\\begin{bmatrix} \n",
    "\\begin{bmatrix} 1 & 2 \\end{bmatrix} \\\\\n",
    "\\begin{bmatrix} 5 & 6 \\end{bmatrix} \\\\\n",
    "\\end{bmatrix}\n",
    "$"
   ]
  },
  {
   "attachments": {},
   "cell_type": "markdown",
   "metadata": {},
   "source": [
    "#### Q1 v)"
   ]
  },
  {
   "attachments": {},
   "cell_type": "markdown",
   "metadata": {},
   "source": [
    "$\n",
    "\\begin{bmatrix} 1 & 6 & 11 \\end{bmatrix} \n",
    "$"
   ]
  },
  {
   "attachments": {},
   "cell_type": "markdown",
   "metadata": {},
   "source": [
    "#### Q1 vi)"
   ]
  },
  {
   "attachments": {},
   "cell_type": "markdown",
   "metadata": {},
   "source": [
    "$\n",
    "\\begin{bmatrix} 1 & 4 & 9 & 16 \\end{bmatrix} \n",
    "$"
   ]
  },
  {
   "attachments": {},
   "cell_type": "markdown",
   "metadata": {},
   "source": [
    "#### Q1 vii)"
   ]
  },
  {
   "attachments": {},
   "cell_type": "markdown",
   "metadata": {},
   "source": [
    "$\n",
    "\\begin{bmatrix} 4 & 8 & 12 & 16 \\end{bmatrix} \n",
    "$"
   ]
  },
  {
   "attachments": {},
   "cell_type": "markdown",
   "metadata": {},
   "source": [
    "#### Q1 viii)"
   ]
  },
  {
   "attachments": {},
   "cell_type": "markdown",
   "metadata": {},
   "source": [
    "$\n",
    "\\begin{bmatrix} \n",
    "\\begin{bmatrix} 4 & 6 \\end{bmatrix} \\\\\n",
    "\\begin{bmatrix} 12 & 14 \\end{bmatrix} \\\\\n",
    "\\end{bmatrix}\n",
    "$"
   ]
  },
  {
   "attachments": {},
   "cell_type": "markdown",
   "metadata": {},
   "source": [
    "#### Q1 ix)"
   ]
  },
  {
   "attachments": {},
   "cell_type": "markdown",
   "metadata": {},
   "source": [
    "$\n",
    "\\begin{bmatrix} \n",
    "\\begin{bmatrix} 1 & 5 \\end{bmatrix} \\\\\n",
    "\\begin{bmatrix} 2 & 6 \\end{bmatrix} \\\\\n",
    "\\begin{bmatrix} 3 & 7 \\end{bmatrix}\n",
    "\\end{bmatrix}\n",
    "$"
   ]
  },
  {
   "attachments": {},
   "cell_type": "markdown",
   "metadata": {},
   "source": [
    "#### Q1 x)"
   ]
  },
  {
   "attachments": {},
   "cell_type": "markdown",
   "metadata": {},
   "source": [
    "$\n",
    "\\begin{bmatrix} \n",
    "\\begin{bmatrix} 1 & 2 \\end{bmatrix} \\\\\n",
    "\\begin{bmatrix} 3 & 5 \\end{bmatrix} \\\\\n",
    "\\begin{bmatrix} 6 & 7 \\end{bmatrix}\n",
    "\\end{bmatrix}\n",
    "$"
   ]
  },
  {
   "attachments": {},
   "cell_type": "markdown",
   "metadata": {},
   "source": [
    "#### Q1 xi)"
   ]
  },
  {
   "attachments": {},
   "cell_type": "markdown",
   "metadata": {},
   "source": [
    "$\\begin{bmatrix} 3 & 11 & 19 & 27 \\end{bmatrix}$"
   ]
  },
  {
   "attachments": {},
   "cell_type": "markdown",
   "metadata": {},
   "source": [
    "#### Q1 xii)"
   ]
  },
  {
   "attachments": {},
   "cell_type": "markdown",
   "metadata": {},
   "source": [
    "$\n",
    "\\begin{bmatrix} \n",
    "\\begin{bmatrix} 3 & 4 \\end{bmatrix} \\\\\n",
    "\\begin{bmatrix} 15 & 12 \\end{bmatrix} \\\\\n",
    "\\begin{bmatrix} 27 & 20 \\end{bmatrix} \\\\\n",
    "\\begin{bmatrix} 39 & 28 \\end{bmatrix}\n",
    "\\end{bmatrix}\n",
    "$"
   ]
  },
  {
   "attachments": {},
   "cell_type": "markdown",
   "metadata": {},
   "source": [
    "#### Q2 a)"
   ]
  },
  {
   "cell_type": "code",
   "execution_count": 5,
   "metadata": {},
   "outputs": [
    {
     "name": "stdout",
     "output_type": "stream",
     "text": [
      "[[1 0 1 0]\n",
      " [0 1 0 1]\n",
      " [2 3 2 3]\n",
      " [4 5 4 5]]\n",
      "[[1 0]\n",
      " [0 1]]\n"
     ]
    }
   ],
   "source": [
    "Q2_x = np.array([[1,0],[0,1]])\n",
    "Q2_y = np.array([[2,3],[4,5]])\n",
    "\n",
    "Q2_z = np.vstack((np.hstack([Q2_x,Q2_x]),np.hstack([Q2_y,Q2_y])))\n",
    "print(Q2_z)\n",
    "print(Q2_z[:2,:2])\n",
    "\n"
   ]
  },
  {
   "attachments": {},
   "cell_type": "markdown",
   "metadata": {},
   "source": [
    "#### Q2 b)\n",
    "\n",
    "We want a column vector: $\\begin{bmatrix} x \\\\ y \\end{bmatrix}$, as this would be the transpose of the row vector: $\\begin{bmatrix} x' & y' \\end{bmatrix}$.\n",
    "\n",
    "i.e. $\\begin{bmatrix} x' & y' \\end{bmatrix}' = \\begin{bmatrix} x \\\\ y \\end{bmatrix}$"
   ]
  },
  {
   "cell_type": "code",
   "execution_count": 11,
   "metadata": {},
   "outputs": [
    {
     "data": {
      "text/plain": [
       "array([[1, 0],\n",
       "       [0, 1],\n",
       "       [2, 3],\n",
       "       [4, 5]])"
      ]
     },
     "execution_count": 11,
     "metadata": {},
     "output_type": "execute_result"
    }
   ],
   "source": [
    "np.hstack([Q2_z[:2,:2].T, Q2_z[2:,2:].T]).T"
   ]
  },
  {
   "attachments": {},
   "cell_type": "markdown",
   "metadata": {},
   "source": [
    "Instead of the np.array.T command usage, an equivalent command would be to use the np.transpose() function.\n",
    "\n",
    "We could also alternatively use any combination of the [0,1] & [1,0] indexes to select x & y from z, as z is symmetric."
   ]
  }
 ],
 "metadata": {
  "kernelspec": {
   "display_name": "base",
   "language": "python",
   "name": "python3"
  },
  "language_info": {
   "codemirror_mode": {
    "name": "ipython",
    "version": 3
   },
   "file_extension": ".py",
   "mimetype": "text/x-python",
   "name": "python",
   "nbconvert_exporter": "python",
   "pygments_lexer": "ipython3",
   "version": "3.9.16"
  },
  "orig_nbformat": 4,
  "vscode": {
   "interpreter": {
    "hash": "af34d7e565d31954c9f692121be51d55df20f46367d89af6b66f92847ac5257c"
   }
  }
 },
 "nbformat": 4,
 "nbformat_minor": 2
}
