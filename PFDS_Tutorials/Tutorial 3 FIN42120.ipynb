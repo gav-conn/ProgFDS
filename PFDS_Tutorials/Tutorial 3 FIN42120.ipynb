{
 "cells": [
  {
   "cell_type": "markdown",
   "id": "bd6f7030",
   "metadata": {},
   "source": [
    "### Problem\n",
    "\n",
    "The monthly vector of mean (expected) excess returns and covariance matrix of excess returns, respectively, of the excess returns (in percent) on the 5 industry portfolios from January 2000 to December 2022 are given by\n",
    "\n",
    "$$ \\mu = \\begin{bmatrix} \n",
    "            0.6583 \\\\\n",
    "            0.6848 \\\\ \n",
    "            0.4529 \\\\\n",
    "            0.6546 \\\\\n",
    "            0.5292 \\\\\n",
    "    \\end{bmatrix}\n",
    "    $$\n",
    "\n",
    "and \n",
    "\n",
    "$$ \\Sigma =\n",
    "\t\\begin{bmatrix}\n",
    "            17.9464 & 15.4792 & 19.7111 & 11.2727 & 19.1219 \\\\\n",
    "            15.4792 & 22.5203 & 19.6234 & 11.7466 & 21.1283 \\\\\n",
    "            19.7111 & 19.6234 & 39.6357 & 14.6925 & 24.1682 \\\\\n",
    "            11.2727 & 11.7466 & 14.6925 & 16.9722 & 14.2552 \\\\\n",
    "            19.1219 & 21.1283 & 24.1682 & 14.2552 & 29.2616 \\\\\t\t \n",
    "\t\t\\end{bmatrix}\t\n",
    "\t$$\n",
    "    \n",
    "1. Draw random samples equal to the number of observations for the sample period from the multivariate normal distribution with mean and covariance matrix given above.\n",
    "2. Calculate the mean, standard deviation, variance, and covariance matrix for the new samples generated in 1. above. \n",
    "3. The optimal weights of risky portfolio is given by\n",
    "$$ w = \\frac{\\Sigma^{-1}\\mu}{\\bf{1}'\\Sigma^{-1}\\mu}$$\n",
    "4. Calculate the monthly mean portfolio returns $ \\mu_p = w'\\mu $, the variance of portfolio returns $ \\sigma_p^2 = w'\\Sigma w$, and the Sharpe ratio $\\mu_p/\\sigma_p$.\n",
    "5. For the monthly statistics in 4. above, calculate their annualized values.                           \n"
   ]
  },
  {
   "cell_type": "code",
   "execution_count": 3,
   "id": "b75a0ece",
   "metadata": {},
   "outputs": [],
   "source": [
    "import numpy as np"
   ]
  },
  {
   "cell_type": "code",
   "execution_count": 4,
   "id": "14ba026d",
   "metadata": {},
   "outputs": [],
   "source": [
    "n = 12*22\n",
    "\n",
    "mu = np.array([0.6583, 0.6848, 0.4529, 0.6546, 0.5292])\n",
    "\n",
    "sigma = np.array([\n",
    "[17.9464, 15.4792, 19.7111, 11.2727, 19.1219],\n",
    "[15.4792, 22.5203, 19.6234, 11.7466, 21.1283],\n",
    "[19.7111, 19.6234, 39.6357, 14.6925, 24.1682],\n",
    "[11.2727, 11.7466, 14.6925, 16.9722, 14.2552],\n",
    "[19.1219, 21.1283, 24.1682, 14.2552, 29.2616]\n",
    "])\n",
    "\n",
    "returns = np.random.multivariate_normal(mu, sigma, n)"
   ]
  },
  {
   "cell_type": "code",
   "execution_count": 5,
   "id": "67f0d6e7",
   "metadata": {},
   "outputs": [
    {
     "name": "stdout",
     "output_type": "stream",
     "text": [
      "The mean of the returns is:  -0.3055328267752642\n",
      "\n",
      "The standard deviation of the returns is:  5.303711400541808\n",
      "\n",
      "The variance of the returns is:  28.12935462023714\n",
      "\n",
      "The covariance of the returns is:\n",
      " [[23.07696003  9.82204855 -5.29487903 ... -6.2045538  -8.39429662\n",
      "   9.16787292]\n",
      " [ 9.82204855 18.15741382  0.99912147 ... -5.5883342   0.29293564\n",
      "  10.0822976 ]\n",
      " [-5.29487903  0.99912147  2.08285889 ...  1.03417214  4.10326039\n",
      "  -0.67372777]\n",
      " ...\n",
      " [-6.2045538  -5.5883342   1.03417214 ...  3.18773534  5.0368146\n",
      "  -3.87260169]\n",
      " [-8.39429662  0.29293564  4.10326039 ...  5.0368146  19.14122031\n",
      "  -1.86376996]\n",
      " [ 9.16787292 10.0822976  -0.67372777 ... -3.87260169 -1.86376996\n",
      "   6.438638  ]]\n"
     ]
    }
   ],
   "source": [
    "print('The mean of the returns is: ', np.mean(returns))\n",
    "print('\\nThe standard deviation of the returns is: ', np.std(returns))\n",
    "print('\\nThe variance of the returns is: ', np.var(returns))\n",
    "print('\\nThe covariance of the returns is:\\n', np.cov(returns))"
   ]
  },
  {
   "cell_type": "code",
   "execution_count": 6,
   "id": "b0c811f1",
   "metadata": {},
   "outputs": [
    {
     "name": "stdout",
     "output_type": "stream",
     "text": [
      "[ 0.88199038  0.52029425 -0.29961015  0.54503244 -0.64770692]\n"
     ]
    }
   ],
   "source": [
    "sigma_inv = np.linalg.inv(sigma)\n",
    "ones = np.ones(len(sigma)).T\n",
    "\n",
    "weights = np.divide(sigma_inv @ mu, ones.T @ sigma_inv @ mu)\n",
    "print(weights)"
   ]
  },
  {
   "cell_type": "code",
   "execution_count": 7,
   "id": "960a9c42",
   "metadata": {},
   "outputs": [
    {
     "name": "stdout",
     "output_type": "stream",
     "text": [
      "Mean return of the portfolio:  0.8152300648770074\n",
      "\n",
      "Variance of the portfolio:  14.532773795590051\n",
      "\n",
      "Sharpe Ratio of the portfolio:  0.21384836332745016\n"
     ]
    }
   ],
   "source": [
    "mu_portfolio = weights.T @ mu\n",
    "\n",
    "var_portfolio = weights.T @ sigma @ weights\n",
    "\n",
    "sharpe_portfolio = mu_portfolio/np.sqrt(var_portfolio)\n",
    "\n",
    "print('Mean return of the portfolio: ', mu_portfolio)\n",
    "print('\\nVariance of the portfolio: ', var_portfolio)\n",
    "print('\\nSharpe Ratio of the portfolio: ', sharpe_portfolio)"
   ]
  },
  {
   "cell_type": "code",
   "execution_count": 9,
   "id": "7240ca92",
   "metadata": {},
   "outputs": [
    {
     "name": "stdout",
     "output_type": "stream",
     "text": [
      "The annualized mean is:  10.233537977443019\n",
      "\n",
      "The annualized variance is:  50.34300517773513\n",
      "\n",
      "The annualized Sharpe Ratio is:  1.4423021045268773\n"
     ]
    }
   ],
   "source": [
    "annualized_mean = ((1+mu_portfolio/100)**12-1)*100\n",
    "annualized_var =  weights.T @ sigma*12 @ weights\n",
    "\n",
    "annualized_sharpe = annualized_mean/np.sqrt(annualized_var)\n",
    "\n",
    "print('The annualized mean is: ', annualized_mean)\n",
    "print('\\nThe annualized variance is: ', annualized_var)\n",
    "print('\\nThe annualized Sharpe Ratio is: ', annualized_sharpe)"
   ]
  }
 ],
 "metadata": {
  "kernelspec": {
   "display_name": "base",
   "language": "python",
   "name": "python3"
  },
  "language_info": {
   "codemirror_mode": {
    "name": "ipython",
    "version": 3
   },
   "file_extension": ".py",
   "mimetype": "text/x-python",
   "name": "python",
   "nbconvert_exporter": "python",
   "pygments_lexer": "ipython3",
   "version": "3.9.16"
  },
  "vscode": {
   "interpreter": {
    "hash": "af34d7e565d31954c9f692121be51d55df20f46367d89af6b66f92847ac5257c"
   }
  }
 },
 "nbformat": 4,
 "nbformat_minor": 5
}
