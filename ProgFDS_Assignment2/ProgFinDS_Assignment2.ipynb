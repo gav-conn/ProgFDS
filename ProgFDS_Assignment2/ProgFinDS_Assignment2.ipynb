{
 "cells": [
  {
   "cell_type": "code",
   "execution_count": 1,
   "metadata": {},
   "outputs": [],
   "source": [
    "import numpy as np"
   ]
  },
  {
   "attachments": {},
   "cell_type": "markdown",
   "metadata": {},
   "source": [
    "**1.** [10 points] Create a Python array from the following matrix using a combination of\n",
    "keyword arguments\n",
    "\n",
    "$\\begin{bmatrix}\n",
    "1 & 2 & 3 \\\\\n",
    "4 & 5 & 6 \\\\\n",
    "7 & 8 & 9\n",
    "\\end{bmatrix}$\n",
    "\n",
    "**(a)** dtype in float, int32, float64, and complex128.\n",
    "\n",
    "**(b)** dimensions of 3 and 4. \n",
    "\n",
    "What are the shapes of these arrays?"
   ]
  },
  {
   "cell_type": "code",
   "execution_count": 2,
   "metadata": {},
   "outputs": [
    {
     "name": "stdout",
     "output_type": "stream",
     "text": [
      "[[1. 2. 3.]\n",
      " [4. 5. 6.]\n",
      " [7. 8. 9.]]\n",
      "\n",
      "Shape of array:  (3, 3)\n"
     ]
    }
   ],
   "source": [
    "a11, a12, a13, a21, a22, a23, a31, a32, a33 = np.arange(1, 10, 1,dtype=float)\n",
    "arr = np.array([a11, a12, a13, a21, a22, a23, a31, a32, a33]).reshape(3, 3)\n",
    "print(arr)\n",
    "print('\\nShape of array: ', arr.shape)"
   ]
  },
  {
   "cell_type": "code",
   "execution_count": 3,
   "metadata": {},
   "outputs": [
    {
     "name": "stdout",
     "output_type": "stream",
     "text": [
      "[[1 2 3]\n",
      " [4 5 6]\n",
      " [7 8 9]]\n",
      "\n",
      "Shape of array:  (3, 3)\n"
     ]
    }
   ],
   "source": [
    "a11, a12, a13, a21, a22, a23, a31, a32, a33 = np.arange(1, 10, 1, dtype=np.int32)\n",
    "arr = np.array([a11, a12, a13, a21, a22, a23, a31, a32, a33]).reshape(3, 3)\n",
    "print(arr)\n",
    "print('\\nShape of array: ', arr.shape)"
   ]
  },
  {
   "cell_type": "code",
   "execution_count": 4,
   "metadata": {},
   "outputs": [
    {
     "name": "stdout",
     "output_type": "stream",
     "text": [
      "[[1. 2. 3.]\n",
      " [4. 5. 6.]\n",
      " [7. 8. 9.]]\n",
      "\n",
      "Shape of array:  (3, 3)\n"
     ]
    }
   ],
   "source": [
    "a11, a12, a13, a21, a22, a23, a31, a32, a33 = np.arange(1, 10, 1, dtype=np.float64)\n",
    "arr = np.array([a11, a12, a13, a21, a22, a23, a31, a32, a33]).reshape(3, 3)\n",
    "print(arr)\n",
    "print('\\nShape of array: ', arr.shape)"
   ]
  },
  {
   "cell_type": "code",
   "execution_count": 5,
   "metadata": {},
   "outputs": [
    {
     "name": "stdout",
     "output_type": "stream",
     "text": [
      "[[1.+0.j 2.+0.j 3.+0.j]\n",
      " [4.+0.j 5.+0.j 6.+0.j]\n",
      " [7.+0.j 8.+0.j 9.+0.j]]\n",
      "\n",
      "Shape of array:  (3, 3)\n"
     ]
    }
   ],
   "source": [
    "a11, a12, a13, a21, a22, a23, a31, a32, a33 = np.arange(1, 10, 1, dtype=np.complex128)\n",
    "arr = np.array([a11, a12, a13, a21, a22, a23, a31, a32, a33]).reshape(3, 3)\n",
    "print(arr)\n",
    "print('\\nShape of array: ', arr.shape)"
   ]
  },
  {
   "cell_type": "code",
   "execution_count": 6,
   "metadata": {},
   "outputs": [
    {
     "name": "stdout",
     "output_type": "stream",
     "text": [
      "[[[1 2 3]\n",
      "  [4 5 6]\n",
      "  [7 8 9]]]\n",
      "\n",
      "Shape of the array  (1, 3, 3)\n"
     ]
    }
   ],
   "source": [
    "a11, a12, a13, a21, a22, a23, a31, a32, a33 = np.arange(1, 10, 1)\n",
    "arr = np.array([[a11, a12, a13], [a21, a22, a23], [a31, a32, a33]], ndmin=3)\n",
    "print(arr)\n",
    "print('\\nShape of the array ', np.shape(arr))"
   ]
  },
  {
   "cell_type": "code",
   "execution_count": 7,
   "metadata": {},
   "outputs": [
    {
     "name": "stdout",
     "output_type": "stream",
     "text": [
      "[[[[1 2 3]\n",
      "   [4 5 6]\n",
      "   [7 8 9]]]]\n",
      "\n",
      "Shape of the array:  (1, 1, 3, 3)\n"
     ]
    }
   ],
   "source": [
    "a11, a12, a13, a21, a22, a23, a31, a32, a33 = np.arange(1, 10, 1)\n",
    "arr = np.array([[a11, a12, a13], [a21, a22, a23], [a31, a32, a33]], ndmin=4)\n",
    "print(arr)\n",
    "print('\\nShape of the array: ', np.shape(arr))"
   ]
  },
  {
   "attachments": {},
   "cell_type": "markdown",
   "metadata": {},
   "source": [
    "**2.** [10 points] Create two array, one where all the elements are zeros and the other all\n",
    "ones, of size 10 × 5. Multiply the two arrays in all possible ways."
   ]
  },
  {
   "cell_type": "code",
   "execution_count": 8,
   "metadata": {},
   "outputs": [
    {
     "name": "stdout",
     "output_type": "stream",
     "text": [
      "[[0. 0. 0. 0. 0.]\n",
      " [0. 0. 0. 0. 0.]\n",
      " [0. 0. 0. 0. 0.]\n",
      " [0. 0. 0. 0. 0.]\n",
      " [0. 0. 0. 0. 0.]\n",
      " [0. 0. 0. 0. 0.]\n",
      " [0. 0. 0. 0. 0.]\n",
      " [0. 0. 0. 0. 0.]\n",
      " [0. 0. 0. 0. 0.]\n",
      " [0. 0. 0. 0. 0.]]\n"
     ]
    }
   ],
   "source": [
    "arr_zeros = np.zeros([10,5])\n",
    "print(arr_zeros)"
   ]
  },
  {
   "cell_type": "code",
   "execution_count": 9,
   "metadata": {},
   "outputs": [
    {
     "name": "stdout",
     "output_type": "stream",
     "text": [
      "[[1. 1. 1. 1. 1.]\n",
      " [1. 1. 1. 1. 1.]\n",
      " [1. 1. 1. 1. 1.]\n",
      " [1. 1. 1. 1. 1.]\n",
      " [1. 1. 1. 1. 1.]\n",
      " [1. 1. 1. 1. 1.]\n",
      " [1. 1. 1. 1. 1.]\n",
      " [1. 1. 1. 1. 1.]\n",
      " [1. 1. 1. 1. 1.]\n",
      " [1. 1. 1. 1. 1.]]\n"
     ]
    }
   ],
   "source": [
    "arr_ones = np.ones([10,5])\n",
    "print(arr_ones)"
   ]
  },
  {
   "cell_type": "code",
   "execution_count": 10,
   "metadata": {},
   "outputs": [
    {
     "data": {
      "text/plain": [
       "array([[0., 0., 0., 0., 0.],\n",
       "       [0., 0., 0., 0., 0.],\n",
       "       [0., 0., 0., 0., 0.],\n",
       "       [0., 0., 0., 0., 0.],\n",
       "       [0., 0., 0., 0., 0.],\n",
       "       [0., 0., 0., 0., 0.],\n",
       "       [0., 0., 0., 0., 0.],\n",
       "       [0., 0., 0., 0., 0.],\n",
       "       [0., 0., 0., 0., 0.],\n",
       "       [0., 0., 0., 0., 0.]])"
      ]
     },
     "execution_count": 10,
     "metadata": {},
     "output_type": "execute_result"
    }
   ],
   "source": [
    "arr_zeros*arr_ones"
   ]
  },
  {
   "cell_type": "code",
   "execution_count": 11,
   "metadata": {},
   "outputs": [
    {
     "data": {
      "text/plain": [
       "array([[0., 0., 0., 0., 0.],\n",
       "       [0., 0., 0., 0., 0.],\n",
       "       [0., 0., 0., 0., 0.],\n",
       "       [0., 0., 0., 0., 0.],\n",
       "       [0., 0., 0., 0., 0.],\n",
       "       [0., 0., 0., 0., 0.],\n",
       "       [0., 0., 0., 0., 0.],\n",
       "       [0., 0., 0., 0., 0.],\n",
       "       [0., 0., 0., 0., 0.],\n",
       "       [0., 0., 0., 0., 0.]])"
      ]
     },
     "execution_count": 11,
     "metadata": {},
     "output_type": "execute_result"
    }
   ],
   "source": [
    "np.multiply(arr_zeros, arr_ones)"
   ]
  },
  {
   "cell_type": "code",
   "execution_count": 12,
   "metadata": {},
   "outputs": [
    {
     "data": {
      "text/plain": [
       "array([[0., 0., 0., 0., 0., 0., 0., 0., 0., 0.],\n",
       "       [0., 0., 0., 0., 0., 0., 0., 0., 0., 0.],\n",
       "       [0., 0., 0., 0., 0., 0., 0., 0., 0., 0.],\n",
       "       [0., 0., 0., 0., 0., 0., 0., 0., 0., 0.],\n",
       "       [0., 0., 0., 0., 0., 0., 0., 0., 0., 0.],\n",
       "       [0., 0., 0., 0., 0., 0., 0., 0., 0., 0.],\n",
       "       [0., 0., 0., 0., 0., 0., 0., 0., 0., 0.],\n",
       "       [0., 0., 0., 0., 0., 0., 0., 0., 0., 0.],\n",
       "       [0., 0., 0., 0., 0., 0., 0., 0., 0., 0.],\n",
       "       [0., 0., 0., 0., 0., 0., 0., 0., 0., 0.]])"
      ]
     },
     "execution_count": 12,
     "metadata": {},
     "output_type": "execute_result"
    }
   ],
   "source": [
    "np.dot(arr_zeros, arr_ones.T)"
   ]
  },
  {
   "cell_type": "code",
   "execution_count": 26,
   "metadata": {},
   "outputs": [
    {
     "data": {
      "text/plain": [
       "array([[0., 0., 0., 0., 0., 0., 0., 0., 0., 0.],\n",
       "       [0., 0., 0., 0., 0., 0., 0., 0., 0., 0.],\n",
       "       [0., 0., 0., 0., 0., 0., 0., 0., 0., 0.],\n",
       "       [0., 0., 0., 0., 0., 0., 0., 0., 0., 0.],\n",
       "       [0., 0., 0., 0., 0., 0., 0., 0., 0., 0.],\n",
       "       [0., 0., 0., 0., 0., 0., 0., 0., 0., 0.],\n",
       "       [0., 0., 0., 0., 0., 0., 0., 0., 0., 0.],\n",
       "       [0., 0., 0., 0., 0., 0., 0., 0., 0., 0.],\n",
       "       [0., 0., 0., 0., 0., 0., 0., 0., 0., 0.],\n",
       "       [0., 0., 0., 0., 0., 0., 0., 0., 0., 0.]])"
      ]
     },
     "execution_count": 26,
     "metadata": {},
     "output_type": "execute_result"
    }
   ],
   "source": [
    "np.matmul(arr_zeros, arr_ones.T)"
   ]
  },
  {
   "cell_type": "code",
   "execution_count": 13,
   "metadata": {},
   "outputs": [
    {
     "data": {
      "text/plain": [
       "array([[0., 0., 0., 0., 0., 0., 0., 0., 0., 0.],\n",
       "       [0., 0., 0., 0., 0., 0., 0., 0., 0., 0.],\n",
       "       [0., 0., 0., 0., 0., 0., 0., 0., 0., 0.],\n",
       "       [0., 0., 0., 0., 0., 0., 0., 0., 0., 0.],\n",
       "       [0., 0., 0., 0., 0., 0., 0., 0., 0., 0.],\n",
       "       [0., 0., 0., 0., 0., 0., 0., 0., 0., 0.],\n",
       "       [0., 0., 0., 0., 0., 0., 0., 0., 0., 0.],\n",
       "       [0., 0., 0., 0., 0., 0., 0., 0., 0., 0.],\n",
       "       [0., 0., 0., 0., 0., 0., 0., 0., 0., 0.],\n",
       "       [0., 0., 0., 0., 0., 0., 0., 0., 0., 0.]])"
      ]
     },
     "execution_count": 13,
     "metadata": {},
     "output_type": "execute_result"
    }
   ],
   "source": [
    "arr_zeros @ arr_ones.T"
   ]
  },
  {
   "attachments": {},
   "cell_type": "markdown",
   "metadata": {},
   "source": [
    "**3.** [10 points] Create an identity array of size 5 and take the element-by-element exponentiation of the array.\n",
    "\n",
    "As we are looking at the exponentiation of the idenetity matrix, any power of the elements of the array will just be the identity matrix (assuming we are taking a positive exponent). Here we look at the square of the identity."
   ]
  },
  {
   "cell_type": "code",
   "execution_count": 14,
   "metadata": {},
   "outputs": [
    {
     "data": {
      "text/plain": [
       "array([[1., 0., 0., 0., 0.],\n",
       "       [0., 1., 0., 0., 0.],\n",
       "       [0., 0., 1., 0., 0.],\n",
       "       [0., 0., 0., 1., 0.],\n",
       "       [0., 0., 0., 0., 1.]])"
      ]
     },
     "execution_count": 14,
     "metadata": {},
     "output_type": "execute_result"
    }
   ],
   "source": [
    "iden_5 = np.identity(5)\n",
    "np.power(iden_5,2)"
   ]
  },
  {
   "attachments": {},
   "cell_type": "markdown",
   "metadata": {},
   "source": [
    "**4.** [15 points] How can you replace ones and zeros with tile? What about replacing\n",
    "eye with diag and ones? Explain with an example.\n",
    "\n",
    "The np.ones() & np.zeros() just output an array of 1's/0's with the given shape. We can therefore replicate the results of each function using the tile function, which simply repeats a given value/set of values.\n",
    "\n",
    "The np.eye() funtion creates an identity of order n, ie. an n x n matrix with ones on the diagonal & zeros in the non-diagonal. We can therefore replicate its output using the diag() & ones() function by first creating an array of n ones, before diagonalizing the array using diag(), to create an n x n identity matrix."
   ]
  },
  {
   "cell_type": "code",
   "execution_count": 15,
   "metadata": {},
   "outputs": [
    {
     "data": {
      "text/plain": [
       "array([1, 1, 1, 1, 1])"
      ]
     },
     "execution_count": 15,
     "metadata": {},
     "output_type": "execute_result"
    }
   ],
   "source": [
    "def ones_tile(shape):\n",
    "    ones = np.tile(1, shape)\n",
    "    return ones\n",
    "\n",
    "ones_tile(5)"
   ]
  },
  {
   "cell_type": "code",
   "execution_count": 16,
   "metadata": {},
   "outputs": [
    {
     "data": {
      "text/plain": [
       "array([0, 0, 0, 0, 0])"
      ]
     },
     "execution_count": 16,
     "metadata": {},
     "output_type": "execute_result"
    }
   ],
   "source": [
    "def zeros_tile(shape):\n",
    "    zeros = np.tile(0, shape)\n",
    "    return zeros\n",
    "\n",
    "zeros_tile(5)"
   ]
  },
  {
   "cell_type": "code",
   "execution_count": 17,
   "metadata": {},
   "outputs": [
    {
     "data": {
      "text/plain": [
       "array([[1., 0., 0., 0., 0.],\n",
       "       [0., 1., 0., 0., 0.],\n",
       "       [0., 0., 1., 0., 0.],\n",
       "       [0., 0., 0., 1., 0.],\n",
       "       [0., 0., 0., 0., 1.]])"
      ]
     },
     "execution_count": 17,
     "metadata": {},
     "output_type": "execute_result"
    }
   ],
   "source": [
    "def identity_diag(n):\n",
    "    identity = np.diag(np.ones(n))\n",
    "    return identity\n",
    "\n",
    "identity_diag(5)"
   ]
  },
  {
   "attachments": {},
   "cell_type": "markdown",
   "metadata": {},
   "source": [
    "**5.** [15 points] Let y = arange(24.0). Use both shape and reshape to produce all possible\n",
    "arrays from y. Return y to it original size."
   ]
  },
  {
   "cell_type": "code",
   "execution_count": 18,
   "metadata": {},
   "outputs": [
    {
     "name": "stdout",
     "output_type": "stream",
     "text": [
      "[[ 0.  1.  2.  3.  4.  5.  6.  7.  8.  9. 10. 11. 12. 13. 14. 15. 16. 17.\n",
      "  18. 19. 20. 21. 22. 23.]] \n",
      "\n",
      "[[ 0.  1.  2.  3.  4.  5.  6.  7.  8.  9. 10. 11.]\n",
      " [12. 13. 14. 15. 16. 17. 18. 19. 20. 21. 22. 23.]] \n",
      "\n",
      "[[ 0.  1.  2.  3.  4.  5.  6.  7.]\n",
      " [ 8.  9. 10. 11. 12. 13. 14. 15.]\n",
      " [16. 17. 18. 19. 20. 21. 22. 23.]] \n",
      "\n",
      "[[ 0.  1.  2.  3.  4.  5.]\n",
      " [ 6.  7.  8.  9. 10. 11.]\n",
      " [12. 13. 14. 15. 16. 17.]\n",
      " [18. 19. 20. 21. 22. 23.]] \n",
      "\n",
      "[[ 0.  1.  2.  3.]\n",
      " [ 4.  5.  6.  7.]\n",
      " [ 8.  9. 10. 11.]\n",
      " [12. 13. 14. 15.]\n",
      " [16. 17. 18. 19.]\n",
      " [20. 21. 22. 23.]] \n",
      "\n",
      "[[ 0.  1.  2.]\n",
      " [ 3.  4.  5.]\n",
      " [ 6.  7.  8.]\n",
      " [ 9. 10. 11.]\n",
      " [12. 13. 14.]\n",
      " [15. 16. 17.]\n",
      " [18. 19. 20.]\n",
      " [21. 22. 23.]] \n",
      "\n",
      "[[ 0.  1.]\n",
      " [ 2.  3.]\n",
      " [ 4.  5.]\n",
      " [ 6.  7.]\n",
      " [ 8.  9.]\n",
      " [10. 11.]\n",
      " [12. 13.]\n",
      " [14. 15.]\n",
      " [16. 17.]\n",
      " [18. 19.]\n",
      " [20. 21.]\n",
      " [22. 23.]] \n",
      "\n",
      "[[ 0.]\n",
      " [ 1.]\n",
      " [ 2.]\n",
      " [ 3.]\n",
      " [ 4.]\n",
      " [ 5.]\n",
      " [ 6.]\n",
      " [ 7.]\n",
      " [ 8.]\n",
      " [ 9.]\n",
      " [10.]\n",
      " [11.]\n",
      " [12.]\n",
      " [13.]\n",
      " [14.]\n",
      " [15.]\n",
      " [16.]\n",
      " [17.]\n",
      " [18.]\n",
      " [19.]\n",
      " [20.]\n",
      " [21.]\n",
      " [22.]\n",
      " [23.]] \n",
      "\n"
     ]
    }
   ],
   "source": [
    "y = np.arange(24.0)\n",
    "original_shape = y.shape\n",
    "\n",
    "for i in range(1,len(y)+1):\n",
    "    if len(y) % i == 0:\n",
    "        with np.printoptions(threshold=np.inf):\n",
    "            y.shape = (i, len(y)//i)\n",
    "            print(y, '\\n')\n",
    "            y.shape = original_shape"
   ]
  },
  {
   "cell_type": "code",
   "execution_count": 19,
   "metadata": {},
   "outputs": [
    {
     "name": "stdout",
     "output_type": "stream",
     "text": [
      "[[ 0.  1.  2.  3.  4.  5.  6.  7.  8.  9. 10. 11. 12. 13. 14. 15. 16. 17.\n",
      "  18. 19. 20. 21. 22. 23.]] \n",
      "\n",
      "[[ 0.  1.  2.  3.  4.  5.  6.  7.  8.  9. 10. 11.]\n",
      " [12. 13. 14. 15. 16. 17. 18. 19. 20. 21. 22. 23.]] \n",
      "\n",
      "[[ 0.  1.  2.  3.  4.  5.  6.  7.]\n",
      " [ 8.  9. 10. 11. 12. 13. 14. 15.]\n",
      " [16. 17. 18. 19. 20. 21. 22. 23.]] \n",
      "\n",
      "[[ 0.  1.  2.  3.  4.  5.]\n",
      " [ 6.  7.  8.  9. 10. 11.]\n",
      " [12. 13. 14. 15. 16. 17.]\n",
      " [18. 19. 20. 21. 22. 23.]] \n",
      "\n",
      "[[ 0.  1.  2.  3.]\n",
      " [ 4.  5.  6.  7.]\n",
      " [ 8.  9. 10. 11.]\n",
      " [12. 13. 14. 15.]\n",
      " [16. 17. 18. 19.]\n",
      " [20. 21. 22. 23.]] \n",
      "\n",
      "[[ 0.  1.  2.]\n",
      " [ 3.  4.  5.]\n",
      " [ 6.  7.  8.]\n",
      " [ 9. 10. 11.]\n",
      " [12. 13. 14.]\n",
      " [15. 16. 17.]\n",
      " [18. 19. 20.]\n",
      " [21. 22. 23.]] \n",
      "\n",
      "[[ 0.  1.]\n",
      " [ 2.  3.]\n",
      " [ 4.  5.]\n",
      " [ 6.  7.]\n",
      " [ 8.  9.]\n",
      " [10. 11.]\n",
      " [12. 13.]\n",
      " [14. 15.]\n",
      " [16. 17.]\n",
      " [18. 19.]\n",
      " [20. 21.]\n",
      " [22. 23.]] \n",
      "\n",
      "[[ 0.]\n",
      " [ 1.]\n",
      " [ 2.]\n",
      " [ 3.]\n",
      " [ 4.]\n",
      " [ 5.]\n",
      " [ 6.]\n",
      " [ 7.]\n",
      " [ 8.]\n",
      " [ 9.]\n",
      " [10.]\n",
      " [11.]\n",
      " [12.]\n",
      " [13.]\n",
      " [14.]\n",
      " [15.]\n",
      " [16.]\n",
      " [17.]\n",
      " [18.]\n",
      " [19.]\n",
      " [20.]\n",
      " [21.]\n",
      " [22.]\n",
      " [23.]] \n",
      "\n"
     ]
    }
   ],
   "source": [
    "y = np.arange(24.0)\n",
    "for i in range(1,len(y)+1):\n",
    "    if len(y) % i == 0:\n",
    "        with np.printoptions(threshold=np.inf):\n",
    "            print(y.reshape(i, len(y)//i), '\\n')\n",
    "\n",
    "y.shape = original_shape"
   ]
  },
  {
   "attachments": {},
   "cell_type": "markdown",
   "metadata": {},
   "source": [
    "**6.** Construct an array from the following covariance matrix of returns of a 10-asset portfolio:\n",
    "\n",
    "$\n",
    "X = \\begin{bmatrix}\n",
    "0.146 & 0.161 & 0.136 & 0.115 & 0.121 & 0.119 & 0.126 & 0.114 & 0.082 & 0.147 \\\\\n",
    "0.161 & 0.576 & 0.296 & 0.243 & 0.318 & 0.235 & 0.246 & 0.151 & 0.094 & 0.308 \\\\\n",
    "0.136 & 0.296 & 0.234 & 0.198 & 0.233 & 0.168 & 0.176 & 0.132 & 0.085 & 0.222 \\\\\n",
    "0.115 & 0.243 & 0.198 & 0.391 & 0.173 & 0.148 & 0.127 & 0.108 & 0.125 & 0.189 \\\\\n",
    "0.121 & 0.318 & 0.233 & 0.173 & 0.467 & 0.233 & 0.217 & 0.156 & 0.054 & 0.234 \\\\\n",
    "0.119 & 0.235 & 0.168 & 0.148 & 0.233 & 0.259 & 0.157 & 0.123 & 0.081 & 0.188 \\\\\n",
    "0.126 & 0.246 & 0.176 & 0.127 & 0.217 & 0.157 & 0.214 & 0.121 & 0.058 & 0.192 \\\\\n",
    "0.114 & 0.151 & 0.132 & 0.108 & 0.156 & 0.123 & 0.121 & 0.195 & 0.070 & 0.150 \\\\\n",
    "0.082 & 0.094 & 0.085 & 0.125 & 0.054 & 0.081 & 0.058 & 0.070 & 0.157 & 0.091 \\\\\n",
    "0.147 & 0.308 & 0.222 & 0.189 & 0.234 & 0.188 & 0.192 & 0.150 & 0.091 & 0.273\n",
    "\\end{bmatrix}\n",
    "$"
   ]
  },
  {
   "attachments": {},
   "cell_type": "markdown",
   "metadata": {},
   "source": [
    "**(a)** [20 points] Perform the following operations on the array using NumPy built-in\n",
    "functions\n",
    "    \n",
    "&nbsp;&nbsp;&nbsp;&nbsp;**(i)** what is the minimum and maximum values in X.\n",
    "\n",
    "&nbsp;&nbsp;&nbsp;&nbsp;**(ii)** what is the mean, median, variance, and standard deviation of X.  \n",
    "\n",
    "&nbsp;&nbsp;&nbsp;&nbsp;**(iii)** repeat the questions in (i) and (ii) above along the axis of the array (that is both vertically and horizontally)."
   ]
  },
  {
   "cell_type": "code",
   "execution_count": 20,
   "metadata": {},
   "outputs": [
    {
     "name": "stdout",
     "output_type": "stream",
     "text": [
      "i)\tThe minimum of X is:  0.054 \n",
      "\tThe maximum of X is:  0.576\n",
      "\n",
      "ii)\tThe mean of X is: 0.1735 \n",
      "\tThe median of X is:  0.156 \n",
      "\tThe variance of X is: 0.0071 \n",
      "\tThe standard deviation of X is: 0.0843\n",
      "\n",
      "iii)\tThe minimums of each row of X are:\n",
      "\t [0.082 0.094 0.085 0.108 0.054 0.081 0.058 0.07  0.054 0.091] \n",
      "\n",
      "\tThe maximums of each row of X are:\n",
      "\t [0.161 0.576 0.296 0.391 0.467 0.259 0.246 0.195 0.157 0.308] \n",
      "\n",
      "\tThe minimums of each column of X are:\n",
      "\t [0.082 0.094 0.085 0.108 0.054 0.081 0.058 0.07  0.054 0.091] \n",
      "\n",
      "\tThe maximums of each column of X are:\n",
      "\t [0.161 0.576 0.296 0.391 0.467 0.259 0.246 0.195 0.157 0.308]\n",
      "\n",
      "\tThe mean of each row of X is:\n",
      "\t [0.1267 0.2628 0.188  0.1817 0.2206 0.1711 0.1634 0.132  0.0897 0.1994] \n",
      "\n",
      "\tThe median of each row of X is:\n",
      "\t [0.1235 0.2445 0.187  0.1605 0.225  0.1625 0.1665 0.1275 0.0835 0.1905] \n",
      "\n",
      "\tThe variance of each row of X is:\n",
      "\t [0.0004 0.0157 0.0034 0.0065 0.0115 0.003  0.0029 0.001  0.0009 0.0036] \n",
      "\n",
      "\tThe standard deviation of each row of X is:\n",
      "\t [0.0211 0.1253 0.0584 0.0807 0.1072 0.0546 0.0538 0.0319 0.0294 0.0601] \n",
      "\n",
      "\tThe mean of each column of X is:\n",
      "\t [0.1267 0.2628 0.188  0.1817 0.2206 0.1711 0.1634 0.132  0.0897 0.1994] \n",
      "\n",
      "\tThe median of each column of X is:\n",
      "\t [0.1235 0.2445 0.187  0.1605 0.225  0.1625 0.1665 0.1275 0.0835 0.1905] \n",
      "\n",
      "\tThe variance of each column of X is:\n",
      "\t [0.0004 0.0157 0.0034 0.0065 0.0115 0.003  0.0029 0.001  0.0009 0.0036] \n",
      "\n",
      "\tThe standard deviation of each column of X is:\n",
      "\t [0.0211 0.1253 0.0584 0.0807 0.1072 0.0546 0.0538 0.0319 0.0294 0.0601]\n"
     ]
    }
   ],
   "source": [
    "X = np.array([[0.146, 0.161, 0.136, 0.115, 0.121, 0.119, 0.126, 0.114, 0.082, 0.147]\n",
    "    ,[0.161, 0.576, 0.296, 0.243, 0.318, 0.235, 0.246, 0.151, 0.094, 0.308]\n",
    "    ,[0.136, 0.296, 0.234, 0.198, 0.233, 0.168, 0.176, 0.132, 0.085, 0.222]\n",
    "    ,[0.115, 0.243, 0.198, 0.391, 0.173, 0.148, 0.127, 0.108, 0.125, 0.189]\n",
    "    ,[0.121, 0.318, 0.233, 0.173, 0.467, 0.233, 0.217, 0.156, 0.054, 0.234]\n",
    "    ,[0.119, 0.235, 0.168, 0.148, 0.233, 0.259, 0.157, 0.123, 0.081, 0.188]\n",
    "    ,[0.126, 0.246, 0.176, 0.127, 0.217, 0.157, 0.214, 0.121, 0.058, 0.192]\n",
    "    ,[0.114, 0.151, 0.132, 0.108, 0.156, 0.123, 0.121, 0.195, 0.070, 0.150]\n",
    "    ,[0.082, 0.094, 0.085, 0.125, 0.054, 0.081, 0.058, 0.070, 0.157, 0.091]\n",
    "    ,[0.147, 0.308, 0.222, 0.189, 0.234, 0.188, 0.192, 0.150, 0.091, 0.273]])\n",
    "\n",
    "print('i)\\tThe minimum of X is: ', np.min(X), \n",
    "      '\\n\\tThe maximum of X is: ', np.max(X))\n",
    "\n",
    "print('\\nii)\\tThe mean of X is: %.4f' % np.mean(X),\n",
    "      '\\n\\tThe median of X is: ', np.median(X),\n",
    "      '\\n\\tThe variance of X is: %.4f' % np.var(X),\n",
    "      '\\n\\tThe standard deviation of X is: %.4f' % np.std(X))\n",
    "\n",
    "print('\\niii)\\tThe minimums of each row of X are:\\n\\t', np.min(X, axis=0), \n",
    "      '\\n\\n\\tThe maximums of each row of X are:\\n\\t', np.max(X, axis=0),\n",
    "      '\\n\\n\\tThe minimums of each column of X are:\\n\\t', np.min(X, axis=1), \n",
    "      '\\n\\n\\tThe maximums of each column of X are:\\n\\t', np.max(X, axis=1))\n",
    "\n",
    "\n",
    "print('\\n\\tThe mean of each row of X is:\\n\\t', np.mean(X,axis=0),\n",
    "      '\\n\\n\\tThe median of each row of X is:\\n\\t', np.median(X,axis=0),\n",
    "      '\\n\\n\\tThe variance of each row of X is:\\n\\t', np.round(np.var(X, axis=0),4),\n",
    "      '\\n\\n\\tThe standard deviation of each row of X is:\\n\\t', np.round(np.std(X, axis=0),4),\n",
    "\n",
    "      '\\n\\n\\tThe mean of each column of X is:\\n\\t', np.mean(X,axis=1),\n",
    "      '\\n\\n\\tThe median of each column of X is:\\n\\t', np.median(X,axis=1),\n",
    "      '\\n\\n\\tThe variance of each column of X is:\\n\\t', np.round(np.var(X, axis=1),4),\n",
    "      '\\n\\n\\tThe standard deviation of each column of X is:\\n\\t', np.round(np.std(X, axis=1),4))"
   ]
  },
  {
   "attachments": {},
   "cell_type": "markdown",
   "metadata": {},
   "source": [
    "**(b)** [10 points] Verify the following:\n",
    "\n",
    "&nbsp;&nbsp;&nbsp;&nbsp;**(i)** the sum of the eigenvalues of X is the same as the trace.\n",
    "\n",
    "&nbsp;&nbsp;&nbsp;&nbsp;**(ii)** the product of the eigenvalues of X is the determinant"
   ]
  },
  {
   "cell_type": "code",
   "execution_count": 21,
   "metadata": {},
   "outputs": [
    {
     "name": "stdout",
     "output_type": "stream",
     "text": [
      "i)\tTrace of X: 2.9120\n",
      "\tSum of eigenvalues of X: 2.9120\n",
      "\n",
      "ii)\tDeterminant of X:  4.0490414474945064e-10\n",
      "\tProduct of eigenvalues of X:  4.0490414474945183e-10\n"
     ]
    }
   ],
   "source": [
    "print('i)\\tTrace of X: %.4f' % np.trace(X))\n",
    "print('\\tSum of eigenvalues of X: %.4f' % sum(np.linalg.eig(X)[0]))\n",
    "\n",
    "print('\\nii)\\tDeterminant of X: ', np.linalg.det(X))\n",
    "print('\\tProduct of eigenvalues of X: ', np.product(np.linalg.eig(X)[0]))"
   ]
  },
  {
   "attachments": {},
   "cell_type": "markdown",
   "metadata": {},
   "source": [
    "**(c)** [10 points] Verify the following:\n",
    "\n",
    "&nbsp;&nbsp;&nbsp;&nbsp;**(i)** the inverse of X is equal to V D−1V ′, where V is the array containing the eignevectors and D is a diagonal array containing eigenvectors"
   ]
  },
  {
   "cell_type": "code",
   "execution_count": 22,
   "metadata": {},
   "outputs": [],
   "source": [
    "X_inv = np.linalg.inv(X)\n",
    "#print(X_inv)"
   ]
  },
  {
   "cell_type": "code",
   "execution_count": 23,
   "metadata": {},
   "outputs": [],
   "source": [
    "D = np.diag(np.linalg.eig(X)[0])\n",
    "D_inv = np.linalg.inv(D)\n",
    "V = np.linalg.eig(X)[1]\n",
    "\n",
    "X_decomp = V @ D_inv @ V.T \n",
    "#print(X_decomp)"
   ]
  },
  {
   "cell_type": "code",
   "execution_count": 24,
   "metadata": {},
   "outputs": [
    {
     "data": {
      "text/plain": [
       "True"
      ]
     },
     "execution_count": 24,
     "metadata": {},
     "output_type": "execute_result"
    }
   ],
   "source": [
    "X_decomp.all() == X_inv.all()"
   ]
  },
  {
   "attachments": {},
   "cell_type": "markdown",
   "metadata": {},
   "source": [
    "We see that each element of the decomposed array $V D^{−1}V'$ is equal to that of $X^{-1}$"
   ]
  }
 ],
 "metadata": {
  "kernelspec": {
   "display_name": "base",
   "language": "python",
   "name": "python3"
  },
  "language_info": {
   "codemirror_mode": {
    "name": "ipython",
    "version": 3
   },
   "file_extension": ".py",
   "mimetype": "text/x-python",
   "name": "python",
   "nbconvert_exporter": "python",
   "pygments_lexer": "ipython3",
   "version": "3.9.16"
  },
  "orig_nbformat": 4,
  "vscode": {
   "interpreter": {
    "hash": "af34d7e565d31954c9f692121be51d55df20f46367d89af6b66f92847ac5257c"
   }
  }
 },
 "nbformat": 4,
 "nbformat_minor": 2
}
